{
 "cells": [
  {
   "cell_type": "code",
   "execution_count": 1,
   "metadata": {},
   "outputs": [
    {
     "name": "stdout",
     "output_type": "stream",
     "text": [
      "ACAATGAGGTCACTATGTTCGAGCTCTTCAAACCGGCTGCGCATACGCAGCGGCTGCCATCCGATAAGGTGGACAGCGTCTATTCACGCCTTCGTTGGCA\n"
     ]
    }
   ],
   "source": [
    "import requests\n",
    "\n",
    "# Dosyanın URL'sini belirt\n",
    "url = \"https://bioinformaticsalgorithms.com/data/realdatasets/Replication/Vibrio_cholerae.txt\"\n",
    "\n",
    "# URL'den dosya içeriğini çek\n",
    "response = requests.get(url)\n",
    "\n",
    "# Eğer istek başarılı olduysa (HTTP Status Code 200)\n",
    "if response.status_code == 200:\n",
    "    genome_sequence = response.text\n",
    "    # Genom dizisinin ilk 100 karakterini ekrana yazdır\n",
    "    print(genome_sequence[:100])\n",
    "else:\n",
    "    print(f\"Dosya indirilemedi. Hata kodu: {response.status_code}\") "
   ]
  },
  {
   "cell_type": "code",
   "execution_count": 4,
   "metadata": {},
   "outputs": [],
   "source": [
    "dna_sequences = \"ACAACTATGCATACTATCGGGAACTATCCT\"\n",
    "k = \"ACTAT\""
   ]
  },
  {
   "cell_type": "code",
   "execution_count": 9,
   "metadata": {},
   "outputs": [
    {
     "name": "stdout",
     "output_type": "stream",
     "text": [
      "3\n"
     ]
    }
   ],
   "source": [
    "count = dna_sequences.count(k)\n",
    "\n",
    "print(count)"
   ]
  }
 ],
 "metadata": {
  "kernelspec": {
   "display_name": ".venv",
   "language": "python",
   "name": "python3"
  },
  "language_info": {
   "codemirror_mode": {
    "name": "ipython",
    "version": 3
   },
   "file_extension": ".py",
   "mimetype": "text/x-python",
   "name": "python",
   "nbconvert_exporter": "python",
   "pygments_lexer": "ipython3",
   "version": "3.8.5"
  }
 },
 "nbformat": 4,
 "nbformat_minor": 2
}
